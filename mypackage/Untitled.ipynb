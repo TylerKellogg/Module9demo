{
 "cells": [
  {
   "cell_type": "code",
   "execution_count": 1,
   "id": "90f7a1cd-de3a-4dfe-8b95-6337204a64c5",
   "metadata": {
    "tags": []
   },
   "outputs": [],
   "source": [
    "from mypackage.jabber import tell_me_something"
   ]
  },
  {
   "cell_type": "code",
   "execution_count": 3,
   "id": "353e52d2-67d6-42da-a2f0-28bfc116589e",
   "metadata": {
    "tags": []
   },
   "outputs": [
    {
     "name": "stdout",
     "output_type": "stream",
     "text": [
      "something\n"
     ]
    }
   ],
   "source": [
    "tell_me_something()"
   ]
  },
  {
   "cell_type": "code",
   "execution_count": 4,
   "id": "e7bf0696-a9fc-4bb0-acd1-28b19aa03ee8",
   "metadata": {
    "tags": []
   },
   "outputs": [],
   "source": [
    "# IT WORKED "
   ]
  }
 ],
 "metadata": {
  "kernelspec": {
   "display_name": "Python 3 (ipykernel)",
   "language": "python",
   "name": "python3"
  },
  "language_info": {
   "codemirror_mode": {
    "name": "ipython",
    "version": 3
   },
   "file_extension": ".py",
   "mimetype": "text/x-python",
   "name": "python",
   "nbconvert_exporter": "python",
   "pygments_lexer": "ipython3",
   "version": "3.11.4"
  }
 },
 "nbformat": 4,
 "nbformat_minor": 5
}
